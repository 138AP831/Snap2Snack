pip install streamlit -q
!pip install ultralytics
%%writefile app.py
import streamlit as st
from ultralytics import YOLO
import cv2
from PIL import Image
import google.generativeai as genai
import tempfile
from IPython.display import HTML


# --- CONFIGURE GEMINI API KEY ---
genai.configure(api_key="Your API Key")

# --- PAGE SETUP ---
st.set_page_config(page_title="Snap2Snack", layout="wide")

# --- CUSTOM CSS ---
st.markdown("""
<style>
body {
    font-family: 'Poppins', sans-serif;
    background-image: url('https://images.unsplash.com/photo-1506748686214-e9df14d4d9d0?auto=format&fit=crop&w=1920&q=80');
    background-size: cover;
    background-position: center;
    background-repeat: no-repeat;
    background-attachment: fixed;
    color: #333;
    overflow-x: hidden;
}
h1, h2, h3 {
    font-weight: 700;
}
section {
    padding: 100px 0;
}
.upload-box, .selection-box, .recipe-card {
    background: rgba(255, 255, 255, 0.85);
    border-radius: 20px;
    padding: 50px;
    text-align: center;
    box-shadow: 0 10px 20px rgba(0,0,0,0.1);
}
.generate-btn {
    background-color: #2ecc71;
    color: white;
    font-size: 18px;
    font-weight: 600;
    padding: 10px 20px;
    border-radius: 10px;
    width: 100%;
    border: none;
}
.generate-btn:hover {
    background-color: #27ae60;
}
</style>
""", unsafe_allow_html=True)

# --- SECTION 1: Landing Page ---
st.markdown("""
<section style="text-align: center;">
    <h1 style="font-size: 60px; color: #333;">🥗 Snap2Snack</h1>
    <h2 style="font-size: 32px; color: #111;">Your food is waiting for you</h2>
    <p style="font-size: 18px; color: #444; max-width: 600px; margin: 0 auto;">
        Discover recipes from your fridge! Upload an image, detect ingredients, and let AI craft dishes just for you.
    </p>
    <p style="margin-top: 40px; font-size: 20px;">👇 Scroll down to begin</p>
</section>
""", unsafe_allow_html=True)

st.markdown("<hr>", unsafe_allow_html=True)

# --- SECTION 2: Upload and Detect ---
st.markdown("""
<section id="fridge" style="text-align: center;">
    <h2>🥬 What's in Your Fridge?</h2>
</section>
""", unsafe_allow_html=True)

uploaded_file = st.file_uploader("Upload your fridge image here", type=["jpg", "jpeg", "png"])

# --- Load YOLO model once ---
@st.cache_resource
def load_yolo_model():
    return YOLO("yolov8n.pt")

model = load_yolo_model()

flat_ingredients = []

if uploaded_file is not None:
    tfile = tempfile.NamedTemporaryFile(delete=False)
    tfile.write(uploaded_file.read())
    img = cv2.imread(tfile.name)
    st.image(Image.open(tfile.name), caption="Uploaded Fridge Image", use_container_width=True)

    st.write("🔍 Detecting ingredients...")
    results = model(img)
    annotated_img = results[0].plot()
    st.image(annotated_img, caption="Detected Ingredients", use_container_width=True)

    # --- Classify bottle content ---
    def classify_bottle(crop_img):
        avg_color = crop_img.mean(axis=(0, 1))
        b, g, r = avg_color
        if r > 150 and g < 100 and b < 100:
            return ["juice"]
        elif r > 80 and g < 70 and b < 50:
            return ["sauce"]
        elif b > 150 and g > 150 and r > 150:
            return ["milk"]
        elif b > 200 and g > 200 and r > 200:
            return ["water"]
        else:
            return ["unknown"]

    ingredients = []
    for result in results:
        for box, cls in zip(result.boxes.xyxy, result.boxes.cls):
            label = result.names[int(cls)]
            x1, y1, x2, y2 = map(int, box)
            crop_img = img[y1:y2, x1:x2]
            if label.lower() == "bottle":
                ingredients.extend(classify_bottle(crop_img))
            else:
                ingredients.append(label.lower())

    flat_ingredients = list(set([item for item in ingredients if isinstance(item, str)]))
    st.success(f"✅ Detected Ingredients: {', '.join(flat_ingredients) if flat_ingredients else 'None detected'}")

st.markdown("<hr>", unsafe_allow_html=True)

# --- SECTION 3: Recipe Preferences ---
st.markdown("""
<section style="text-align:center;">
    <h2>🍴 Make Your Selections</h2>
    <p>Choose your diet, time, and cuisine to generate delicious recipes.</p>
</section>
""", unsafe_allow_html=True)

col1, col2, col3 = st.columns(3)
with col1:
    diet = st.selectbox("Diet Type", ["Vegetarian", "Non-Vegetarian", "Vegan", "Keto"])
with col2:
    time_available = st.selectbox("Time Available", ["15 minutes", "30 minutes", "1 hour", "More than 1 hour"])
with col3:
    cuisine = st.selectbox("Cuisine", ["Indian", "Italian", "American", "Asian", "Mexican", "Mediterranean"])

# --- Generate Recipes ---
if st.button("🍳 Generate Recipes"):
    if not flat_ingredients:
        st.warning("No ingredients detected — please upload a clearer fridge image.")
    else:
        prompt = f"""
You are a professional chef AI. Using only the following detected ingredients:
{', '.join(flat_ingredients)}.
Task:
- Suggest 3 realistic recipes that fit this style:
  • Diet: {diet}
  • Time: {time_available}
  • Cuisine: {cuisine}
- Each recipe should have:
  • A short title and a 2-line description, along with nutritional value
  • Ingredients (only from the list above; assume salt/oil available)
  • Preparation steps
  • Taste description
If possible, include a starter, main course, dessert, and drink idea for each suggestion. Let the name of each dish be closely related to the cuisine the user has selected. Example if its an Indian Dish, give an indian name.
Keep output human-readable and well-structured. For non-food items, try to relate them to the closest ingredients. Suggest existing realistic dishes only.
"""
        with st.spinner("Generating recipes... ⏳"):
            gen_model = genai.GenerativeModel("gemini-2.5-flash")
            response = gen_model.generate_content(prompt)
            st.subheader("🍽️ Recipe Suggestions")
            st.write(response.text)
else:
    st.info("📸 Upload an image of your fridge to begin.")

st.markdown("---")
!pip install streamlit pyngrok ultralytics opencv-python pillow google-generativeai torch torchvision
!pip install streamlit
!wget -q -O cloudflared.deb https://github.com/cloudflare/cloudflared/releases/latest/download/cloudflared-linux-amd64.deb
!dpkg -i cloudflared.deb
!nohup streamlit run app.py --server.port 8501 &>/content/logs.txt &
import time
time.sleep(10)
!cloudflared tunnel --url http://localhost:8501 --no-autoupdate
